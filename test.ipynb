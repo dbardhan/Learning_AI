{
 "cells": [
  {
   "cell_type": "code",
   "execution_count": null,
   "id": "11a0d96f",
   "metadata": {},
   "outputs": [],
   "source": []
  },
  {
   "cell_type": "code",
   "execution_count": 23,
   "id": "f86ab1d2",
   "metadata": {},
   "outputs": [
    {
     "name": "stdout",
     "output_type": "stream",
     "text": [
      "1 2 4 5 6 7 8 9 10 hello world None\n"
     ]
    }
   ],
   "source": [
    "def print_args(*args):   \n",
    "    \"\"\"\n",
    "    This function prints the arguments passed to it.\n",
    "    It is a simple wrapper around the built-in print function.\n",
    "    \"\"\"\n",
    "    for items in args:\n",
    "        if isinstance(items, (list, tuple)):\n",
    "            for item in items:\n",
    "                print(item, end=' ')\n",
    "        else:\n",
    "            print(items, end=' ')\n",
    "print(print_args(1,2,4,[5,6,7], (8,9,10), 'hello', 'world'))\n"
   ]
  },
  {
   "cell_type": "code",
   "execution_count": 24,
   "id": "f8c5ae99",
   "metadata": {},
   "outputs": [
    {
     "name": "stdout",
     "output_type": "stream",
     "text": [
      "1 2 4 5 6 7 8 9 10 hello world name=Alice age=30 None\n"
     ]
    }
   ],
   "source": [
    "def print_args(*args,**kwargs):  \n",
    "    \"\"\"\n",
    "    This function prints the arguments passed to it.\n",
    "    It is a simple wrapper around the built-in print function.\n",
    "    \"\"\"\n",
    "    for items in args:\n",
    "        if isinstance(items, (list, tuple)):\n",
    "            for item in items:\n",
    "                print(item, end=' ')\n",
    "        else:\n",
    "            print(items, end=' ')\n",
    "    for key, value in kwargs.items():\n",
    "        print(f\"{key}={value}\", end=' ')    \n",
    "\n",
    "print(print_args(1,2,4,[5,6,7], (8,9,10), 'hello', 'world', name='Alice', age=30))"
   ]
  },
  {
   "cell_type": "code",
   "execution_count": 22,
   "id": "36295321",
   "metadata": {},
   "outputs": [
    {
     "name": "stdout",
     "output_type": "stream",
     "text": [
      "25\n"
     ]
    }
   ],
   "source": [
    "lambda_func = lambda x: x ** 2\n",
    "print(lambda_func(5))  # Output: 25"
   ]
  },
  {
   "cell_type": "code",
   "execution_count": 19,
   "id": "48c676cf",
   "metadata": {},
   "outputs": [
    {
     "name": "stdout",
     "output_type": "stream",
     "text": [
      "Squared numbers: [1, 4, 9, 16, 25, 36, 49, 64, 81, 100]\n",
      "Add results: [2, 6, 12, 20, 30, 42, 56, 72, 90, 110]\n"
     ]
    }
   ],
   "source": [
    "number = [1, 2, 3, 4, 5, 6, 7, 8, 9, 10]\n",
    "lambda_func = lambda x: x ** 2 \n",
    "squared_numbers = list(map(lambda_func, number))   \n",
    "print(\"Squared numbers:\", squared_numbers)\n",
    "\n",
    "add_reasults_lambda = lambda x, y: x + y\n",
    "add_reasults= list(map(add_reasults_lambda, number, squared_numbers))\n",
    "print(\"Add results:\", add_reasults)\n"
   ]
  },
  {
   "cell_type": "code",
   "execution_count": 21,
   "id": "baad28a6",
   "metadata": {},
   "outputs": [
    {
     "name": "stdout",
     "output_type": "stream",
     "text": [
      "Names: ['ALICE', 'BOB', 'CHARLIE']\n"
     ]
    }
   ],
   "source": [
    "person =[\n",
    "    {'name': 'Alice', 'age': 30, 'city': 'New York'},\n",
    "    {'name': 'Bob', 'age': 25, 'city': 'Los Angeles'},\n",
    "    {'name': 'Charlie', 'age': 35, 'city': 'Chicago' }  \n",
    "]\n",
    "def get_names(people):\n",
    "    \"\"\"\n",
    "    \"\"\"\n",
    "    return people.get('name',None)\n",
    "\n",
    "names =list(map (str.upper, list(map(get_names, person))))\n",
    "print(\"Names:\", names)\n"
   ]
  },
  {
   "cell_type": "code",
   "execution_count": 2,
   "id": "9bdfdfd6",
   "metadata": {},
   "outputs": [
    {
     "name": "stdout",
     "output_type": "stream",
     "text": [
      "Even numbers: [2, 4, 6, 8, 10]\n",
      "Numbers greater than five: [6, 7, 8, 9, 10]\n"
     ]
    }
   ],
   "source": [
    "def iseven(num):\n",
    "    \"\"\"\n",
    "    Check if a number is even.\n",
    "    \"\"\"\n",
    "    return num % 2 == 0 \n",
    "ls = [1, 2, 3, 4, 5, 6, 7, 8, 9, 10]\n",
    "\n",
    "even_numbers = list(filter(iseven, ls))\n",
    "print(\"Even numbers:\", even_numbers)\n",
    "greate_than_five = list(filter(lambda x: x > 5, ls))\n",
    "print(\"Numbers greater than five:\", greate_than_five)   \n",
    "\n",
    "\n"
   ]
  },
  {
   "cell_type": "code",
   "execution_count": 3,
   "id": "2cf855fb",
   "metadata": {},
   "outputs": [
    {
     "name": "stdout",
     "output_type": "stream",
     "text": [
      "Even numbers greater than five: [6, 8, 10]\n"
     ]
    }
   ],
   "source": [
    "ls = [1, 2, 3, 4, 5, 6, 7, 8, 9, 10]\n",
    "even_and_greater_than_five = list(filter(lambda x: x % 2 == 0 and x > 5, ls))\n",
    "print(\"Even numbers greater than five:\", even_and_greater_than_five)\n"
   ]
  },
  {
   "cell_type": "code",
   "execution_count": 5,
   "id": "8d7fa8fa",
   "metadata": {},
   "outputs": [
    {
     "name": "stdout",
     "output_type": "stream",
     "text": [
      "Adults: [{'name': 'Alice', 'age': 30, 'city': 'New York'}, {'name': 'Charlie', 'age': 20, 'city': 'Chicago'}]\n",
      "Minors: [{'name': 'Bob', 'age': 17, 'city': 'Los Angeles'}]\n"
     ]
    }
   ],
   "source": [
    "#filter on dictionary to find age is greater than 18\n",
    "people = [\n",
    "    {'name': 'Alice', 'age': 30, 'city': 'New York'},\n",
    "    {'name': 'Bob', 'age': 17, 'city': 'Los Angeles'},\n",
    "    {'name': 'Charlie', 'age': 20, 'city': 'Chicago'}\n",
    "]\n",
    "def minors(p):\n",
    "    \"\"\"\n",
    "    This function filters out people who are minors (age <= 18).\n",
    "    \"\"\"\n",
    "    return p.get('age', 0) <= 18\n",
    "adults = list(filter(lambda person: person['age'] > 18, people))\n",
    "minors = list(filter(minors, people))\n",
    "print(\"Adults:\", adults)    \n",
    "print(\"Minors:\", minors)\n"
   ]
  }
 ],
 "metadata": {
  "kernelspec": {
   "display_name": "Python 3",
   "language": "python",
   "name": "python3"
  },
  "language_info": {
   "codemirror_mode": {
    "name": "ipython",
    "version": 3
   },
   "file_extension": ".py",
   "mimetype": "text/x-python",
   "name": "python",
   "nbconvert_exporter": "python",
   "pygments_lexer": "ipython3",
   "version": "3.13.0"
  }
 },
 "nbformat": 4,
 "nbformat_minor": 5
}
