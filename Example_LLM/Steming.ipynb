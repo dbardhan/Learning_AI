{
 "cells": [
  {
   "cell_type": "markdown",
   "id": "9af5db8a",
   "metadata": {},
   "source": [
    "## Stemming\n",
    "Stemming is the process of reducing a word to its word stem that affixes to suffixes and prefixes or to the roots of words known as a lemma. Stemming is important in natural language understanding (NLU) and natural language processing (NLP)."
   ]
  },
  {
   "cell_type": "code",
   "execution_count": 26,
   "id": "6c7199fd",
   "metadata": {},
   "outputs": [],
   "source": [
    "words=[\"eating\",\"eats\",\"eaten\",\"writing\",\"writes\",\"programming\",\"programs\",\"history\",\"finally\",\"finalized\"]"
   ]
  },
  {
   "cell_type": "markdown",
   "id": "528f8aa1",
   "metadata": {},
   "source": [
    "##PorterStemmer"
   ]
  },
  {
   "cell_type": "code",
   "execution_count": 27,
   "id": "7abcb1c5",
   "metadata": {},
   "outputs": [
    {
     "name": "stdout",
     "output_type": "stream",
     "text": [
      "['eating=>eat', 'eats=>eat', 'eaten=>eaten', 'writing=>write', 'writes=>write', 'programming=>program', 'programs=>program', 'history=>histori', 'finally=>final', 'finalized=>final']\n"
     ]
    }
   ],
   "source": [
    "from nltk.stem import PorterStemmer\n",
    "stemmer = PorterStemmer()\n",
    "stemmed_words = [f\"{word}=>{stemmer.stem(word)}\" for word in words]\n",
    "print(stemmed_words)"
   ]
  },
  {
   "cell_type": "code",
   "execution_count": 28,
   "id": "dbc69607",
   "metadata": {},
   "outputs": [
    {
     "data": {
      "text/plain": [
       "'sit'"
      ]
     },
     "execution_count": 28,
     "metadata": {},
     "output_type": "execute_result"
    }
   ],
   "source": [
    "stemmer.stem(\"sitting\")  # Example of stemming a single word"
   ]
  },
  {
   "cell_type": "code",
   "execution_count": 29,
   "id": "9a716afb",
   "metadata": {},
   "outputs": [
    {
     "data": {
      "text/plain": [
       "'congratul'"
      ]
     },
     "execution_count": 29,
     "metadata": {},
     "output_type": "execute_result"
    }
   ],
   "source": [
    "stemmer.stem(\"congratulations\")     # Example of stemming a word with a typo\n"
   ]
  },
  {
   "cell_type": "markdown",
   "id": "25ec1d91",
   "metadata": {},
   "source": [
    "##RegexpStemmer\n"
   ]
  },
  {
   "cell_type": "code",
   "execution_count": 35,
   "id": "ac0ff931",
   "metadata": {},
   "outputs": [],
   "source": [
    "from nltk.stem import RegexpStemmer\n",
    "regex_stemmer = RegexpStemmer(r\"ing$|s$|e$|able$\", min=4)"
   ]
  },
  {
   "cell_type": "code",
   "execution_count": 39,
   "id": "b7481654",
   "metadata": {},
   "outputs": [
    {
     "name": "stdout",
     "output_type": "stream",
     "text": [
      "['eating-->eat', 'eats-->eat', 'eaten-->eaten', 'writing-->writ', 'writes-->write', 'programming-->programm', 'programs-->program', 'history-->history', 'finally-->finally', 'finalized-->finalized']\n"
     ]
    }
   ],
   "source": [
    "regex_stem_list = list(map(lambda word: f\"{word}-->{regex_stemmer.stem(word)}\", words) )\n",
    "print(regex_stem_list)\n"
   ]
  },
  {
   "cell_type": "code",
   "execution_count": 40,
   "id": "7e8d54e2",
   "metadata": {},
   "outputs": [
    {
     "data": {
      "text/plain": [
       "'congratulation'"
      ]
     },
     "execution_count": 40,
     "metadata": {},
     "output_type": "execute_result"
    }
   ],
   "source": [
    "regex_stemmer.stem(\"congratulations\")  # Example of stemming a word with a typo"
   ]
  },
  {
   "cell_type": "markdown",
   "id": "38f871b8",
   "metadata": {},
   "source": [
    "##SnowBall Stemmer\n"
   ]
  },
  {
   "cell_type": "code",
   "execution_count": 41,
   "id": "59773693",
   "metadata": {},
   "outputs": [
    {
     "name": "stdout",
     "output_type": "stream",
     "text": [
      "['eating-->eat', 'eats-->eat', 'eaten-->eaten', 'writing-->write', 'writes-->write', 'programming-->program', 'programs-->program', 'history-->histori', 'finally-->final', 'finalized-->final']\n"
     ]
    }
   ],
   "source": [
    "from nltk.stem import SnowballStemmer\n",
    "snowball_stemmer = SnowballStemmer(\"english\")\n",
    "snowball_stem_list = list(map(lambda word: f\"{word}-->{snowball_stemmer.stem(word)}\", words) )\n",
    "print(snowball_stem_list)"
   ]
  },
  {
   "cell_type": "code",
   "execution_count": null,
   "id": "eca44d72",
   "metadata": {},
   "outputs": [],
   "source": [
    "word_examples = [\"fairly\",\"lovely\",\"goes\"]\n",
    "res_porter_stem= [stemmer.stem(word) for word in words]  # Example of stemming a single word\n",
    "res_snow_ball_stem= [snowball_stemmer.stem(word) for word in words]  # Example of stemming a word with a typo\n",
    "print(res_porter_stem)\n",
    "print(res_snow_ball_stem)   "
   ]
  }
 ],
 "metadata": {
  "kernelspec": {
   "display_name": "Python 3",
   "language": "python",
   "name": "python3"
  },
  "language_info": {
   "codemirror_mode": {
    "name": "ipython",
    "version": 3
   },
   "file_extension": ".py",
   "mimetype": "text/x-python",
   "name": "python",
   "nbconvert_exporter": "python",
   "pygments_lexer": "ipython3",
   "version": "3.13.0"
  }
 },
 "nbformat": 4,
 "nbformat_minor": 5
}
